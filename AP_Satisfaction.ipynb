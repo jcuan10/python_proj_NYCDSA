{
 "cells": [
  {
   "cell_type": "markdown",
   "id": "0fbb2ff3",
   "metadata": {},
   "source": [
    "Airline Passenger Satisfaction\n",
    "What factors lead to customer satisfaction for an Airline?"
   ]
  },
  {
   "cell_type": "markdown",
   "id": "69437168",
   "metadata": {},
   "source": []
  },
  {
   "cell_type": "markdown",
   "id": "ecaab49d",
   "metadata": {},
   "source": [
    "Abstract/Introduction"
   ]
  },
  {
   "cell_type": "markdown",
   "id": "59b6d353",
   "metadata": {},
   "source": [
    "This dataset contains an airline passenger satisfaction survey. What factors are highly correlated to a satisfied (or dissatisfied) passenger? Can you predict passenger satisfaction?"
   ]
  },
  {
   "cell_type": "markdown",
   "id": "cb536504",
   "metadata": {},
   "source": [
    "First, let's get some data classification of the Airline Passenger Satisfaction dataset from Kaggle, to identify the critical factors that lead to customer satisfaction."
   ]
  },
  {
   "cell_type": "markdown",
   "id": "50789324",
   "metadata": {},
   "source": []
  },
  {
   "cell_type": "markdown",
   "id": "9a51c5dc",
   "metadata": {},
   "source": []
  },
  {
   "cell_type": "markdown",
   "id": "3c1e15d1",
   "metadata": {},
   "source": [
    "Data Wrangling\n",
    "\"Garbage in, Garbage out\""
   ]
  },
  {
   "cell_type": "code",
   "execution_count": 2,
   "id": "fa17f693",
   "metadata": {},
   "outputs": [],
   "source": [
    "# Python tools \n",
    "import pandas as pd\n",
    "import seaborn as sns\n",
    "import matplotlib.pyplot as plt\n",
    "import numpy as np\n",
    "import missingno as msno\n",
    "from pandas.plotting import scatter_matrix\n",
    "\n",
    "#import pandas_profiling"
   ]
  },
  {
   "cell_type": "code",
   "execution_count": 2,
   "id": "5d83f5fa",
   "metadata": {},
   "outputs": [],
   "source": [
    "#Importing Data\n",
    "test_APS = pd.read_csv('test_APS.csv')\n",
    "train_APS = pd.read_csv('train_APS.csv')\n"
   ]
  },
  {
   "cell_type": "code",
   "execution_count": 3,
   "id": "2d239139",
   "metadata": {},
   "outputs": [
    {
     "data": {
      "text/html": [
       "<div>\n",
       "<style scoped>\n",
       "    .dataframe tbody tr th:only-of-type {\n",
       "        vertical-align: middle;\n",
       "    }\n",
       "\n",
       "    .dataframe tbody tr th {\n",
       "        vertical-align: top;\n",
       "    }\n",
       "\n",
       "    .dataframe thead th {\n",
       "        text-align: right;\n",
       "    }\n",
       "</style>\n",
       "<table border=\"1\" class=\"dataframe\">\n",
       "  <thead>\n",
       "    <tr style=\"text-align: right;\">\n",
       "      <th></th>\n",
       "      <th>Unnamed: 0</th>\n",
       "      <th>id</th>\n",
       "      <th>Gender</th>\n",
       "      <th>Customer Type</th>\n",
       "      <th>Age</th>\n",
       "      <th>Type of Travel</th>\n",
       "      <th>Class</th>\n",
       "      <th>Flight Distance</th>\n",
       "      <th>Inflight wifi service</th>\n",
       "      <th>Departure/Arrival time convenient</th>\n",
       "      <th>...</th>\n",
       "      <th>Inflight entertainment</th>\n",
       "      <th>On-board service</th>\n",
       "      <th>Leg room service</th>\n",
       "      <th>Baggage handling</th>\n",
       "      <th>Checkin service</th>\n",
       "      <th>Inflight service</th>\n",
       "      <th>Cleanliness</th>\n",
       "      <th>Departure Delay in Minutes</th>\n",
       "      <th>Arrival Delay in Minutes</th>\n",
       "      <th>satisfaction</th>\n",
       "    </tr>\n",
       "  </thead>\n",
       "  <tbody>\n",
       "    <tr>\n",
       "      <th>0</th>\n",
       "      <td>0</td>\n",
       "      <td>70172</td>\n",
       "      <td>Male</td>\n",
       "      <td>Loyal Customer</td>\n",
       "      <td>13</td>\n",
       "      <td>Personal Travel</td>\n",
       "      <td>Eco Plus</td>\n",
       "      <td>460</td>\n",
       "      <td>3</td>\n",
       "      <td>4</td>\n",
       "      <td>...</td>\n",
       "      <td>5</td>\n",
       "      <td>4</td>\n",
       "      <td>3</td>\n",
       "      <td>4</td>\n",
       "      <td>4</td>\n",
       "      <td>5</td>\n",
       "      <td>5</td>\n",
       "      <td>25</td>\n",
       "      <td>18.0</td>\n",
       "      <td>neutral or dissatisfied</td>\n",
       "    </tr>\n",
       "    <tr>\n",
       "      <th>1</th>\n",
       "      <td>1</td>\n",
       "      <td>5047</td>\n",
       "      <td>Male</td>\n",
       "      <td>disloyal Customer</td>\n",
       "      <td>25</td>\n",
       "      <td>Business travel</td>\n",
       "      <td>Business</td>\n",
       "      <td>235</td>\n",
       "      <td>3</td>\n",
       "      <td>2</td>\n",
       "      <td>...</td>\n",
       "      <td>1</td>\n",
       "      <td>1</td>\n",
       "      <td>5</td>\n",
       "      <td>3</td>\n",
       "      <td>1</td>\n",
       "      <td>4</td>\n",
       "      <td>1</td>\n",
       "      <td>1</td>\n",
       "      <td>6.0</td>\n",
       "      <td>neutral or dissatisfied</td>\n",
       "    </tr>\n",
       "    <tr>\n",
       "      <th>2</th>\n",
       "      <td>2</td>\n",
       "      <td>110028</td>\n",
       "      <td>Female</td>\n",
       "      <td>Loyal Customer</td>\n",
       "      <td>26</td>\n",
       "      <td>Business travel</td>\n",
       "      <td>Business</td>\n",
       "      <td>1142</td>\n",
       "      <td>2</td>\n",
       "      <td>2</td>\n",
       "      <td>...</td>\n",
       "      <td>5</td>\n",
       "      <td>4</td>\n",
       "      <td>3</td>\n",
       "      <td>4</td>\n",
       "      <td>4</td>\n",
       "      <td>4</td>\n",
       "      <td>5</td>\n",
       "      <td>0</td>\n",
       "      <td>0.0</td>\n",
       "      <td>satisfied</td>\n",
       "    </tr>\n",
       "    <tr>\n",
       "      <th>3</th>\n",
       "      <td>3</td>\n",
       "      <td>24026</td>\n",
       "      <td>Female</td>\n",
       "      <td>Loyal Customer</td>\n",
       "      <td>25</td>\n",
       "      <td>Business travel</td>\n",
       "      <td>Business</td>\n",
       "      <td>562</td>\n",
       "      <td>2</td>\n",
       "      <td>5</td>\n",
       "      <td>...</td>\n",
       "      <td>2</td>\n",
       "      <td>2</td>\n",
       "      <td>5</td>\n",
       "      <td>3</td>\n",
       "      <td>1</td>\n",
       "      <td>4</td>\n",
       "      <td>2</td>\n",
       "      <td>11</td>\n",
       "      <td>9.0</td>\n",
       "      <td>neutral or dissatisfied</td>\n",
       "    </tr>\n",
       "    <tr>\n",
       "      <th>4</th>\n",
       "      <td>4</td>\n",
       "      <td>119299</td>\n",
       "      <td>Male</td>\n",
       "      <td>Loyal Customer</td>\n",
       "      <td>61</td>\n",
       "      <td>Business travel</td>\n",
       "      <td>Business</td>\n",
       "      <td>214</td>\n",
       "      <td>3</td>\n",
       "      <td>3</td>\n",
       "      <td>...</td>\n",
       "      <td>3</td>\n",
       "      <td>3</td>\n",
       "      <td>4</td>\n",
       "      <td>4</td>\n",
       "      <td>3</td>\n",
       "      <td>3</td>\n",
       "      <td>3</td>\n",
       "      <td>0</td>\n",
       "      <td>0.0</td>\n",
       "      <td>satisfied</td>\n",
       "    </tr>\n",
       "  </tbody>\n",
       "</table>\n",
       "<p>5 rows × 25 columns</p>\n",
       "</div>"
      ],
      "text/plain": [
       "   Unnamed: 0      id  Gender      Customer Type  Age   Type of Travel  \\\n",
       "0           0   70172    Male     Loyal Customer   13  Personal Travel   \n",
       "1           1    5047    Male  disloyal Customer   25  Business travel   \n",
       "2           2  110028  Female     Loyal Customer   26  Business travel   \n",
       "3           3   24026  Female     Loyal Customer   25  Business travel   \n",
       "4           4  119299    Male     Loyal Customer   61  Business travel   \n",
       "\n",
       "      Class  Flight Distance  Inflight wifi service  \\\n",
       "0  Eco Plus              460                      3   \n",
       "1  Business              235                      3   \n",
       "2  Business             1142                      2   \n",
       "3  Business              562                      2   \n",
       "4  Business              214                      3   \n",
       "\n",
       "   Departure/Arrival time convenient  ...  Inflight entertainment  \\\n",
       "0                                  4  ...                       5   \n",
       "1                                  2  ...                       1   \n",
       "2                                  2  ...                       5   \n",
       "3                                  5  ...                       2   \n",
       "4                                  3  ...                       3   \n",
       "\n",
       "   On-board service  Leg room service  Baggage handling  Checkin service  \\\n",
       "0                 4                 3                 4                4   \n",
       "1                 1                 5                 3                1   \n",
       "2                 4                 3                 4                4   \n",
       "3                 2                 5                 3                1   \n",
       "4                 3                 4                 4                3   \n",
       "\n",
       "   Inflight service  Cleanliness  Departure Delay in Minutes  \\\n",
       "0                 5            5                          25   \n",
       "1                 4            1                           1   \n",
       "2                 4            5                           0   \n",
       "3                 4            2                          11   \n",
       "4                 3            3                           0   \n",
       "\n",
       "   Arrival Delay in Minutes             satisfaction  \n",
       "0                      18.0  neutral or dissatisfied  \n",
       "1                       6.0  neutral or dissatisfied  \n",
       "2                       0.0                satisfied  \n",
       "3                       9.0  neutral or dissatisfied  \n",
       "4                       0.0                satisfied  \n",
       "\n",
       "[5 rows x 25 columns]"
      ]
     },
     "execution_count": 3,
     "metadata": {},
     "output_type": "execute_result"
    }
   ],
   "source": [
    "#test_APS.head() \n",
    "train_APS.head() #train dataframe"
   ]
  },
  {
   "cell_type": "markdown",
   "id": "95c9ae05",
   "metadata": {},
   "source": [
    "Content Variable Explanation:\n",
    "\n",
    "Gender: Gender of the passengers (Female, Male)\n",
    "Customer Type: The customer type (Loyal customer, disloyal customer)\n",
    "Age: The actual age of the passengers\n",
    "Type of Travel: Purpose of the flight of the passengers (Personal Travel, Business Travel)\n",
    "Class: Travel class in the plane of the passengers (Business, Eco, Eco Plus)\n",
    "Flight distance: The flight distance of this journey\n",
    "Inflight wifi service: Satisfaction level of the inflight wifi service (0:Not Applicable;1-5)\n",
    "Departure/Arrival time convenient: Satisfaction level of Departure/Arrival time convenient\n",
    "Ease of Online booking: Satisfaction level of online booking\n",
    "Gate location: Satisfaction level of Gate location\n",
    "Food and drink: Satisfaction level of Food and drink\n",
    "Online boarding: Satisfaction level of online boarding\n",
    "Seat comfort: Satisfaction level of Seat comfort\n",
    "Inflight entertainment: Satisfaction level of inflight entertainment\n",
    "On-board service: Satisfaction level of On-board service\n",
    "Leg room service: Satisfaction level of Leg room service\n",
    "Baggage handling: Satisfaction level of baggage handling\n",
    "Check-in service: Satisfaction level of Check-in service\n",
    "Inflight service: Satisfaction level of inflight service\n",
    "Cleanliness: Satisfaction level of Cleanliness\n",
    "Departure Delay in Minutes: Minutes delayed when departure\n",
    "Arrival Delay in Minutes: Minutes delayed when Arrival\n",
    "Satisfaction: Airline satisfaction level(Satisfaction, neutral or dissatisfaction)"
   ]
  },
  {
   "cell_type": "markdown",
   "id": "c7882d69",
   "metadata": {},
   "source": [
    "Types of Data: Categorical vs Numerical"
   ]
  },
  {
   "cell_type": "code",
   "execution_count": 4,
   "id": "f8b60af8",
   "metadata": {},
   "outputs": [
    {
     "data": {
      "text/plain": [
       "Unnamed: 0                           103904\n",
       "id                                   103904\n",
       "Gender                                    2\n",
       "Customer Type                             2\n",
       "Age                                      75\n",
       "Type of Travel                            2\n",
       "Class                                     3\n",
       "Flight Distance                        3802\n",
       "Inflight wifi service                     6\n",
       "Departure/Arrival time convenient         6\n",
       "Ease of Online booking                    6\n",
       "Gate location                             6\n",
       "Food and drink                            6\n",
       "Online boarding                           6\n",
       "Seat comfort                              6\n",
       "Inflight entertainment                    6\n",
       "On-board service                          6\n",
       "Leg room service                          6\n",
       "Baggage handling                          5\n",
       "Checkin service                           6\n",
       "Inflight service                          6\n",
       "Cleanliness                               6\n",
       "Departure Delay in Minutes              446\n",
       "Arrival Delay in Minutes                455\n",
       "satisfaction                              2\n",
       "dtype: int64"
      ]
     },
     "execution_count": 4,
     "metadata": {},
     "output_type": "execute_result"
    }
   ],
   "source": [
    "train_APS.nunique() # Observation of what Type of Data (Categorical or Numerical) is in the Dataset"
   ]
  },
  {
   "cell_type": "markdown",
   "id": "4aeca7cb",
   "metadata": {},
   "source": [
    "Categorical: \"Gender\", \"Customer Type\", \"Type of Travel\", \"Class\" and \"Satisfaction\".\n",
    "\n",
    "Numerical: \"Age\", \"Flight Distance\", \"Departure Delay\" and \"Arrival Delay\".\n",
    "\n",
    "Grade(1-5): Inflight wifi service, Departure/Arrival time convenient, Ease of Online booking, Gate location, Food and drink, Online boarding, Seat comfort, Inflight entertainment, On-board service, Leg room service, Baggage handling, Checkin service, Inflight service and Cleanliness. "
   ]
  },
  {
   "cell_type": "markdown",
   "id": "540f12d2",
   "metadata": {},
   "source": [
    "Let's check if we have missing values in out train datasets in %"
   ]
  },
  {
   "cell_type": "code",
   "execution_count": 5,
   "id": "e7877d0d",
   "metadata": {},
   "outputs": [],
   "source": [
    "#test_APS.isnull().sum()*100/len(test_APS) # Found just 0.3% missing values on \"Arrival Delay\"     "
   ]
  },
  {
   "cell_type": "code",
   "execution_count": 6,
   "id": "aaad65e7",
   "metadata": {},
   "outputs": [
    {
     "data": {
      "text/plain": [
       "Unnamed: 0                             0\n",
       "id                                     0\n",
       "Gender                                 0\n",
       "Customer Type                          0\n",
       "Age                                    0\n",
       "Type of Travel                         0\n",
       "Class                                  0\n",
       "Flight Distance                        0\n",
       "Inflight wifi service                  0\n",
       "Departure/Arrival time convenient      0\n",
       "Ease of Online booking                 0\n",
       "Gate location                          0\n",
       "Food and drink                         0\n",
       "Online boarding                        0\n",
       "Seat comfort                           0\n",
       "Inflight entertainment                 0\n",
       "On-board service                       0\n",
       "Leg room service                       0\n",
       "Baggage handling                       0\n",
       "Checkin service                        0\n",
       "Inflight service                       0\n",
       "Cleanliness                            0\n",
       "Departure Delay in Minutes             0\n",
       "Arrival Delay in Minutes             310\n",
       "satisfaction                           0\n",
       "dtype: int64"
      ]
     },
     "execution_count": 6,
     "metadata": {},
     "output_type": "execute_result"
    }
   ],
   "source": [
    "train_APS.isnull().sum()"
   ]
  },
  {
   "cell_type": "code",
   "execution_count": 7,
   "id": "f56dc224",
   "metadata": {},
   "outputs": [
    {
     "data": {
      "text/plain": [
       "Unnamed: 0                           0.000000\n",
       "id                                   0.000000\n",
       "Gender                               0.000000\n",
       "Customer Type                        0.000000\n",
       "Age                                  0.000000\n",
       "Type of Travel                       0.000000\n",
       "Class                                0.000000\n",
       "Flight Distance                      0.000000\n",
       "Inflight wifi service                0.000000\n",
       "Departure/Arrival time convenient    0.000000\n",
       "Ease of Online booking               0.000000\n",
       "Gate location                        0.000000\n",
       "Food and drink                       0.000000\n",
       "Online boarding                      0.000000\n",
       "Seat comfort                         0.000000\n",
       "Inflight entertainment               0.000000\n",
       "On-board service                     0.000000\n",
       "Leg room service                     0.000000\n",
       "Baggage handling                     0.000000\n",
       "Checkin service                      0.000000\n",
       "Inflight service                     0.000000\n",
       "Cleanliness                          0.000000\n",
       "Departure Delay in Minutes           0.000000\n",
       "Arrival Delay in Minutes             0.298352\n",
       "satisfaction                         0.000000\n",
       "dtype: float64"
      ]
     },
     "execution_count": 7,
     "metadata": {},
     "output_type": "execute_result"
    }
   ],
   "source": [
    "train_APS.isnull().sum()*100/len(train_APS) # Found less than 0.3% missing values on \"Arrival Delay\""
   ]
  },
  {
   "cell_type": "code",
   "execution_count": 8,
   "id": "72bb96a6",
   "metadata": {},
   "outputs": [
    {
     "data": {
      "text/plain": [
       "<AxesSubplot:>"
      ]
     },
     "execution_count": 8,
     "metadata": {},
     "output_type": "execute_result"
    },
    {
     "data": {
      "image/png": "[encoded data removed]",
      "text/plain": [
       "<Figure size 1800x720 with 2 Axes>"
      ]
     },
     "metadata": {
      "needs_background": "light"
     },
     "output_type": "display_data"
    }
   ],
   "source": [
    "msno.matrix(train_APS)"
   ]
  },
  {
   "cell_type": "markdown",
   "id": "2e71561a",
   "metadata": {},
   "source": [
    "\"Arrival Delay in Minutes\" is the only variable with missing values. Let's get some statistic of this variable."
   ]
  },
  {
   "cell_type": "code",
   "execution_count": 9,
   "id": "c697a3ee",
   "metadata": {},
   "outputs": [],
   "source": [
    "#train_APS['Arrival Delay in Minutes'].describe()"
   ]
  },
  {
   "cell_type": "markdown",
   "id": "b69138b5",
   "metadata": {},
   "source": [
    "The Dataset has less than 0.3% of missing values (310/103904), just in the \"Arrival Delay\" column, so we are going to drop those missing values's row. "
   ]
  },
  {
   "cell_type": "code",
   "execution_count": 10,
   "id": "0acd514f",
   "metadata": {},
   "outputs": [],
   "source": [
    "train_APS.dropna(subset = ['Arrival Delay in Minutes'], inplace=True)"
   ]
  },
  {
   "cell_type": "code",
   "execution_count": 11,
   "id": "9910e413",
   "metadata": {},
   "outputs": [
    {
     "data": {
      "text/plain": [
       "Unnamed: 0                           0\n",
       "id                                   0\n",
       "Gender                               0\n",
       "Customer Type                        0\n",
       "Age                                  0\n",
       "Type of Travel                       0\n",
       "Class                                0\n",
       "Flight Distance                      0\n",
       "Inflight wifi service                0\n",
       "Departure/Arrival time convenient    0\n",
       "Ease of Online booking               0\n",
       "Gate location                        0\n",
       "Food and drink                       0\n",
       "Online boarding                      0\n",
       "Seat comfort                         0\n",
       "Inflight entertainment               0\n",
       "On-board service                     0\n",
       "Leg room service                     0\n",
       "Baggage handling                     0\n",
       "Checkin service                      0\n",
       "Inflight service                     0\n",
       "Cleanliness                          0\n",
       "Departure Delay in Minutes           0\n",
       "Arrival Delay in Minutes             0\n",
       "satisfaction                         0\n",
       "dtype: int64"
      ]
     },
     "execution_count": 11,
     "metadata": {},
     "output_type": "execute_result"
    }
   ],
   "source": [
    "train_APS.isnull().sum()"
   ]
  },
  {
   "cell_type": "markdown",
   "id": "dca28b08",
   "metadata": {},
   "source": [
    "At this point, we are ready to do some Data Analysis.\n",
    "Let's start with visualizing the correlation between variables in a heatmap. Also, we need to encode categorical data into numerical data."
   ]
  },
  {
   "cell_type": "code",
   "execution_count": 12,
   "id": "c033f783",
   "metadata": {},
   "outputs": [],
   "source": [
    "train_APS['Gender'].replace(['Female', 'Male'], [0, 1], inplace=True)"
   ]
  },
  {
   "cell_type": "code",
   "execution_count": 13,
   "id": "4840b585",
   "metadata": {},
   "outputs": [],
   "source": [
    "train_APS['Customer Type'].replace(['disloyal Customer', 'Loyal Customer'], [0, 1], inplace=True)"
   ]
  },
  {
   "cell_type": "code",
   "execution_count": 14,
   "id": "0d34303f",
   "metadata": {},
   "outputs": [],
   "source": [
    "train_APS['Type of Travel'].replace(['Personal Travel', 'Business travel'], [0, 1], inplace=True)"
   ]
  },
  {
   "cell_type": "code",
   "execution_count": 15,
   "id": "917b8da6",
   "metadata": {},
   "outputs": [],
   "source": [
    "train_APS['Class'].replace(['Eco', 'Eco Plus', 'Business'], [0, 1, 2], inplace=True)"
   ]
  },
  {
   "cell_type": "code",
   "execution_count": 16,
   "id": "2e1a8ffb",
   "metadata": {},
   "outputs": [],
   "source": [
    "train_APS['satisfaction'].replace(['neutral or dissatisfied', 'satisfied'], [0, 1], inplace=True)"
   ]
  },
  {
   "cell_type": "code",
   "execution_count": null,
   "id": "eb8e6e2a",
   "metadata": {},
   "outputs": [],
   "source": []
  },
  {
   "cell_type": "code",
   "execution_count": 17,
   "id": "a547561e",
   "metadata": {},
   "outputs": [
    {
     "data": {
      "text/html": [
       "<div>\n",
       "<style scoped>\n",
       "    .dataframe tbody tr th:only-of-type {\n",
       "        vertical-align: middle;\n",
       "    }\n",
       "\n",
       "    .dataframe tbody tr th {\n",
       "        vertical-align: top;\n",
       "    }\n",
       "\n",
       "    .dataframe thead th {\n",
       "        text-align: right;\n",
       "    }\n",
       "</style>\n",
       "<table border=\"1\" class=\"dataframe\">\n",
       "  <thead>\n",
       "    <tr style=\"text-align: right;\">\n",
       "      <th></th>\n",
       "      <th>Unnamed: 0</th>\n",
       "      <th>id</th>\n",
       "      <th>Gender</th>\n",
       "      <th>Customer Type</th>\n",
       "      <th>Age</th>\n",
       "      <th>Type of Travel</th>\n",
       "      <th>Class</th>\n",
       "      <th>Flight Distance</th>\n",
       "      <th>Inflight wifi service</th>\n",
       "      <th>Departure/Arrival time convenient</th>\n",
       "      <th>...</th>\n",
       "      <th>Inflight entertainment</th>\n",
       "      <th>On-board service</th>\n",
       "      <th>Leg room service</th>\n",
       "      <th>Baggage handling</th>\n",
       "      <th>Checkin service</th>\n",
       "      <th>Inflight service</th>\n",
       "      <th>Cleanliness</th>\n",
       "      <th>Departure Delay in Minutes</th>\n",
       "      <th>Arrival Delay in Minutes</th>\n",
       "      <th>satisfaction</th>\n",
       "    </tr>\n",
       "  </thead>\n",
       "  <tbody>\n",
       "    <tr>\n",
       "      <th>0</th>\n",
       "      <td>0</td>\n",
       "      <td>70172</td>\n",
       "      <td>1</td>\n",
       "      <td>1</td>\n",
       "      <td>13</td>\n",
       "      <td>0</td>\n",
       "      <td>1</td>\n",
       "      <td>460</td>\n",
       "      <td>3</td>\n",
       "      <td>4</td>\n",
       "      <td>...</td>\n",
       "      <td>5</td>\n",
       "      <td>4</td>\n",
       "      <td>3</td>\n",
       "      <td>4</td>\n",
       "      <td>4</td>\n",
       "      <td>5</td>\n",
       "      <td>5</td>\n",
       "      <td>25</td>\n",
       "      <td>18.0</td>\n",
       "      <td>0</td>\n",
       "    </tr>\n",
       "    <tr>\n",
       "      <th>1</th>\n",
       "      <td>1</td>\n",
       "      <td>5047</td>\n",
       "      <td>1</td>\n",
       "      <td>0</td>\n",
       "      <td>25</td>\n",
       "      <td>1</td>\n",
       "      <td>2</td>\n",
       "      <td>235</td>\n",
       "      <td>3</td>\n",
       "      <td>2</td>\n",
       "      <td>...</td>\n",
       "      <td>1</td>\n",
       "      <td>1</td>\n",
       "      <td>5</td>\n",
       "      <td>3</td>\n",
       "      <td>1</td>\n",
       "      <td>4</td>\n",
       "      <td>1</td>\n",
       "      <td>1</td>\n",
       "      <td>6.0</td>\n",
       "      <td>0</td>\n",
       "    </tr>\n",
       "    <tr>\n",
       "      <th>2</th>\n",
       "      <td>2</td>\n",
       "      <td>110028</td>\n",
       "      <td>0</td>\n",
       "      <td>1</td>\n",
       "      <td>26</td>\n",
       "      <td>1</td>\n",
       "      <td>2</td>\n",
       "      <td>1142</td>\n",
       "      <td>2</td>\n",
       "      <td>2</td>\n",
       "      <td>...</td>\n",
       "      <td>5</td>\n",
       "      <td>4</td>\n",
       "      <td>3</td>\n",
       "      <td>4</td>\n",
       "      <td>4</td>\n",
       "      <td>4</td>\n",
       "      <td>5</td>\n",
       "      <td>0</td>\n",
       "      <td>0.0</td>\n",
       "      <td>1</td>\n",
       "    </tr>\n",
       "    <tr>\n",
       "      <th>3</th>\n",
       "      <td>3</td>\n",
       "      <td>24026</td>\n",
       "      <td>0</td>\n",
       "      <td>1</td>\n",
       "      <td>25</td>\n",
       "      <td>1</td>\n",
       "      <td>2</td>\n",
       "      <td>562</td>\n",
       "      <td>2</td>\n",
       "      <td>5</td>\n",
       "      <td>...</td>\n",
       "      <td>2</td>\n",
       "      <td>2</td>\n",
       "      <td>5</td>\n",
       "      <td>3</td>\n",
       "      <td>1</td>\n",
       "      <td>4</td>\n",
       "      <td>2</td>\n",
       "      <td>11</td>\n",
       "      <td>9.0</td>\n",
       "      <td>0</td>\n",
       "    </tr>\n",
       "    <tr>\n",
       "      <th>4</th>\n",
       "      <td>4</td>\n",
       "      <td>119299</td>\n",
       "      <td>1</td>\n",
       "      <td>1</td>\n",
       "      <td>61</td>\n",
       "      <td>1</td>\n",
       "      <td>2</td>\n",
       "      <td>214</td>\n",
       "      <td>3</td>\n",
       "      <td>3</td>\n",
       "      <td>...</td>\n",
       "      <td>3</td>\n",
       "      <td>3</td>\n",
       "      <td>4</td>\n",
       "      <td>4</td>\n",
       "      <td>3</td>\n",
       "      <td>3</td>\n",
       "      <td>3</td>\n",
       "      <td>0</td>\n",
       "      <td>0.0</td>\n",
       "      <td>1</td>\n",
       "    </tr>\n",
       "    <tr>\n",
       "      <th>5</th>\n",
       "      <td>5</td>\n",
       "      <td>111157</td>\n",
       "      <td>0</td>\n",
       "      <td>1</td>\n",
       "      <td>26</td>\n",
       "      <td>0</td>\n",
       "      <td>0</td>\n",
       "      <td>1180</td>\n",
       "      <td>3</td>\n",
       "      <td>4</td>\n",
       "      <td>...</td>\n",
       "      <td>1</td>\n",
       "      <td>3</td>\n",
       "      <td>4</td>\n",
       "      <td>4</td>\n",
       "      <td>4</td>\n",
       "      <td>4</td>\n",
       "      <td>1</td>\n",
       "      <td>0</td>\n",
       "      <td>0.0</td>\n",
       "      <td>0</td>\n",
       "    </tr>\n",
       "    <tr>\n",
       "      <th>6</th>\n",
       "      <td>6</td>\n",
       "      <td>82113</td>\n",
       "      <td>1</td>\n",
       "      <td>1</td>\n",
       "      <td>47</td>\n",
       "      <td>0</td>\n",
       "      <td>0</td>\n",
       "      <td>1276</td>\n",
       "      <td>2</td>\n",
       "      <td>4</td>\n",
       "      <td>...</td>\n",
       "      <td>2</td>\n",
       "      <td>3</td>\n",
       "      <td>3</td>\n",
       "      <td>4</td>\n",
       "      <td>3</td>\n",
       "      <td>5</td>\n",
       "      <td>2</td>\n",
       "      <td>9</td>\n",
       "      <td>23.0</td>\n",
       "      <td>0</td>\n",
       "    </tr>\n",
       "    <tr>\n",
       "      <th>7</th>\n",
       "      <td>7</td>\n",
       "      <td>96462</td>\n",
       "      <td>0</td>\n",
       "      <td>1</td>\n",
       "      <td>52</td>\n",
       "      <td>1</td>\n",
       "      <td>2</td>\n",
       "      <td>2035</td>\n",
       "      <td>4</td>\n",
       "      <td>3</td>\n",
       "      <td>...</td>\n",
       "      <td>5</td>\n",
       "      <td>5</td>\n",
       "      <td>5</td>\n",
       "      <td>5</td>\n",
       "      <td>4</td>\n",
       "      <td>5</td>\n",
       "      <td>4</td>\n",
       "      <td>4</td>\n",
       "      <td>0.0</td>\n",
       "      <td>1</td>\n",
       "    </tr>\n",
       "    <tr>\n",
       "      <th>8</th>\n",
       "      <td>8</td>\n",
       "      <td>79485</td>\n",
       "      <td>0</td>\n",
       "      <td>1</td>\n",
       "      <td>41</td>\n",
       "      <td>1</td>\n",
       "      <td>2</td>\n",
       "      <td>853</td>\n",
       "      <td>1</td>\n",
       "      <td>2</td>\n",
       "      <td>...</td>\n",
       "      <td>1</td>\n",
       "      <td>1</td>\n",
       "      <td>2</td>\n",
       "      <td>1</td>\n",
       "      <td>4</td>\n",
       "      <td>1</td>\n",
       "      <td>2</td>\n",
       "      <td>0</td>\n",
       "      <td>0.0</td>\n",
       "      <td>0</td>\n",
       "    </tr>\n",
       "    <tr>\n",
       "      <th>9</th>\n",
       "      <td>9</td>\n",
       "      <td>65725</td>\n",
       "      <td>1</td>\n",
       "      <td>0</td>\n",
       "      <td>20</td>\n",
       "      <td>1</td>\n",
       "      <td>0</td>\n",
       "      <td>1061</td>\n",
       "      <td>3</td>\n",
       "      <td>3</td>\n",
       "      <td>...</td>\n",
       "      <td>2</td>\n",
       "      <td>2</td>\n",
       "      <td>3</td>\n",
       "      <td>4</td>\n",
       "      <td>4</td>\n",
       "      <td>3</td>\n",
       "      <td>2</td>\n",
       "      <td>0</td>\n",
       "      <td>0.0</td>\n",
       "      <td>0</td>\n",
       "    </tr>\n",
       "  </tbody>\n",
       "</table>\n",
       "<p>10 rows × 25 columns</p>\n",
       "</div>"
      ],
      "text/plain": [
       "   Unnamed: 0      id  Gender  Customer Type  Age  Type of Travel  Class  \\\n",
       "0           0   70172       1              1   13               0      1   \n",
       "1           1    5047       1              0   25               1      2   \n",
       "2           2  110028       0              1   26               1      2   \n",
       "3           3   24026       0              1   25               1      2   \n",
       "4           4  119299       1              1   61               1      2   \n",
       "5           5  111157       0              1   26               0      0   \n",
       "6           6   82113       1              1   47               0      0   \n",
       "7           7   96462       0              1   52               1      2   \n",
       "8           8   79485       0              1   41               1      2   \n",
       "9           9   65725       1              0   20               1      0   \n",
       "\n",
       "   Flight Distance  Inflight wifi service  Departure/Arrival time convenient  \\\n",
       "0              460                      3                                  4   \n",
       "1              235                      3                                  2   \n",
       "2             1142                      2                                  2   \n",
       "3              562                      2                                  5   \n",
       "4              214                      3                                  3   \n",
       "5             1180                      3                                  4   \n",
       "6             1276                      2                                  4   \n",
       "7             2035                      4                                  3   \n",
       "8              853                      1                                  2   \n",
       "9             1061                      3                                  3   \n",
       "\n",
       "   ...  Inflight entertainment  On-board service  Leg room service  \\\n",
       "0  ...                       5                 4                 3   \n",
       "1  ...                       1                 1                 5   \n",
       "2  ...                       5                 4                 3   \n",
       "3  ...                       2                 2                 5   \n",
       "4  ...                       3                 3                 4   \n",
       "5  ...                       1                 3                 4   \n",
       "6  ...                       2                 3                 3   \n",
       "7  ...                       5                 5                 5   \n",
       "8  ...                       1                 1                 2   \n",
       "9  ...                       2                 2                 3   \n",
       "\n",
       "   Baggage handling  Checkin service  Inflight service  Cleanliness  \\\n",
       "0                 4                4                 5            5   \n",
       "1                 3                1                 4            1   \n",
       "2                 4                4                 4            5   \n",
       "3                 3                1                 4            2   \n",
       "4                 4                3                 3            3   \n",
       "5                 4                4                 4            1   \n",
       "6                 4                3                 5            2   \n",
       "7                 5                4                 5            4   \n",
       "8                 1                4                 1            2   \n",
       "9                 4                4                 3            2   \n",
       "\n",
       "   Departure Delay in Minutes  Arrival Delay in Minutes  satisfaction  \n",
       "0                          25                      18.0             0  \n",
       "1                           1                       6.0             0  \n",
       "2                           0                       0.0             1  \n",
       "3                          11                       9.0             0  \n",
       "4                           0                       0.0             1  \n",
       "5                           0                       0.0             0  \n",
       "6                           9                      23.0             0  \n",
       "7                           4                       0.0             1  \n",
       "8                           0                       0.0             0  \n",
       "9                           0                       0.0             0  \n",
       "\n",
       "[10 rows x 25 columns]"
      ]
     },
     "execution_count": 17,
     "metadata": {},
     "output_type": "execute_result"
    }
   ],
   "source": [
    "train_APS.head(10)"
   ]
  },
  {
   "cell_type": "code",
   "execution_count": 18,
   "id": "145dd267",
   "metadata": {},
   "outputs": [
    {
     "data": {
      "text/plain": [
       "<AxesSubplot:>"
      ]
     },
     "execution_count": 18,
     "metadata": {},
     "output_type": "execute_result"
    },
    {
     "data": {
      "image/png": "[encoded data removed]",
      "text/plain": [
       "<Figure size 432x288 with 2 Axes>"
      ]
     },
     "metadata": {
      "needs_background": "light"
     },
     "output_type": "display_data"
    }
   ],
   "source": [
    "sns.heatmap(train_APS.corr(), cmap='YlGnBu', xticklabels=True, yticklabels=True)"
   ]
  },
  {
   "cell_type": "markdown",
   "id": "1b110ca2",
   "metadata": {},
   "source": [
    "From the correlation heatmap, we need to numerically identify which variables are highly correlated and use them for our prediction model."
   ]
  },
  {
   "cell_type": "code",
   "execution_count": 19,
   "id": "efb0eb6b",
   "metadata": {},
   "outputs": [],
   "source": [
    "corr = train_APS.corr()"
   ]
  },
  {
   "cell_type": "code",
   "execution_count": 20,
   "id": "0d6e7687",
   "metadata": {},
   "outputs": [],
   "source": [
    "Rank_Corr_List = corr[corr<1].unstack().transpose().sort_values(ascending=False).drop_duplicates()"
   ]
  },
  {
   "cell_type": "code",
   "execution_count": 21,
   "id": "525aa5df",
   "metadata": {},
   "outputs": [
    {
     "data": {
      "text/plain": [
       "Arrival Delay in Minutes           Departure Delay in Minutes    0.965481\n",
       "Ease of Online booking             Inflight wifi service         0.715848\n",
       "Cleanliness                        Inflight entertainment        0.691735\n",
       "                                   Seat comfort                  0.678478\n",
       "Food and drink                     Cleanliness                   0.657648\n",
       "Baggage handling                   Inflight service              0.628944\n",
       "Inflight entertainment             Food and drink                0.622374\n",
       "                                   Seat comfort                  0.610614\n",
       "Seat comfort                       Food and drink                0.574561\n",
       "On-board service                   Inflight service              0.550725\n",
       "Type of Travel                     Class                         0.545185\n",
       "On-board service                   Baggage handling              0.519252\n",
       "Online boarding                    satisfaction                  0.503447\n",
       "Class                              satisfaction                  0.494545\n",
       "Ease of Online booking             Gate location                 0.458746\n",
       "Online boarding                    Inflight wifi service         0.457002\n",
       "Flight Distance                    Class                         0.451495\n",
       "Type of Travel                     satisfaction                  0.448995\n",
       "Departure/Arrival time convenient  Gate location                 0.444601\n",
       "                                   Ease of Online booking        0.437021\n",
       "dtype: float64"
      ]
     },
     "execution_count": 21,
     "metadata": {},
     "output_type": "execute_result"
    }
   ],
   "source": [
    "Rank_Corr_List.head(20)"
   ]
  },
  {
   "cell_type": "markdown",
   "id": "ad83e402",
   "metadata": {},
   "source": [
    "We are going to consider, just the highest correlated variables (correlation > 0.45) for our prediction model (including \"satisfaction\"). We are going to drop those variables/columns that does not have significan correlation."
   ]
  },
  {
   "cell_type": "code",
   "execution_count": 22,
   "id": "332b301a",
   "metadata": {},
   "outputs": [],
   "source": [
    "train_APS.drop(['Gender', 'Age', 'Flight Distance', 'Departure/Arrival time convenient', 'Ease of Online booking', 'On-board service', 'Leg room service', 'Inflight service', 'Cleanliness', 'Departure Delay in Minutes', 'Arrival Delay in Minutes'], axis=1, inplace=True)"
   ]
  },
  {
   "cell_type": "code",
   "execution_count": 23,
   "id": "28402d8e",
   "metadata": {},
   "outputs": [
    {
     "data": {
      "text/html": [
       "<div>\n",
       "<style scoped>\n",
       "    .dataframe tbody tr th:only-of-type {\n",
       "        vertical-align: middle;\n",
       "    }\n",
       "\n",
       "    .dataframe tbody tr th {\n",
       "        vertical-align: top;\n",
       "    }\n",
       "\n",
       "    .dataframe thead th {\n",
       "        text-align: right;\n",
       "    }\n",
       "</style>\n",
       "<table border=\"1\" class=\"dataframe\">\n",
       "  <thead>\n",
       "    <tr style=\"text-align: right;\">\n",
       "      <th></th>\n",
       "      <th>Unnamed: 0</th>\n",
       "      <th>id</th>\n",
       "      <th>Customer Type</th>\n",
       "      <th>Type of Travel</th>\n",
       "      <th>Class</th>\n",
       "      <th>Inflight wifi service</th>\n",
       "      <th>Gate location</th>\n",
       "      <th>Food and drink</th>\n",
       "      <th>Online boarding</th>\n",
       "      <th>Seat comfort</th>\n",
       "      <th>Inflight entertainment</th>\n",
       "      <th>Baggage handling</th>\n",
       "      <th>Checkin service</th>\n",
       "      <th>satisfaction</th>\n",
       "    </tr>\n",
       "  </thead>\n",
       "  <tbody>\n",
       "    <tr>\n",
       "      <th>0</th>\n",
       "      <td>0</td>\n",
       "      <td>70172</td>\n",
       "      <td>1</td>\n",
       "      <td>0</td>\n",
       "      <td>1</td>\n",
       "      <td>3</td>\n",
       "      <td>1</td>\n",
       "      <td>5</td>\n",
       "      <td>3</td>\n",
       "      <td>5</td>\n",
       "      <td>5</td>\n",
       "      <td>4</td>\n",
       "      <td>4</td>\n",
       "      <td>0</td>\n",
       "    </tr>\n",
       "    <tr>\n",
       "      <th>1</th>\n",
       "      <td>1</td>\n",
       "      <td>5047</td>\n",
       "      <td>0</td>\n",
       "      <td>1</td>\n",
       "      <td>2</td>\n",
       "      <td>3</td>\n",
       "      <td>3</td>\n",
       "      <td>1</td>\n",
       "      <td>3</td>\n",
       "      <td>1</td>\n",
       "      <td>1</td>\n",
       "      <td>3</td>\n",
       "      <td>1</td>\n",
       "      <td>0</td>\n",
       "    </tr>\n",
       "    <tr>\n",
       "      <th>2</th>\n",
       "      <td>2</td>\n",
       "      <td>110028</td>\n",
       "      <td>1</td>\n",
       "      <td>1</td>\n",
       "      <td>2</td>\n",
       "      <td>2</td>\n",
       "      <td>2</td>\n",
       "      <td>5</td>\n",
       "      <td>5</td>\n",
       "      <td>5</td>\n",
       "      <td>5</td>\n",
       "      <td>4</td>\n",
       "      <td>4</td>\n",
       "      <td>1</td>\n",
       "    </tr>\n",
       "    <tr>\n",
       "      <th>3</th>\n",
       "      <td>3</td>\n",
       "      <td>24026</td>\n",
       "      <td>1</td>\n",
       "      <td>1</td>\n",
       "      <td>2</td>\n",
       "      <td>2</td>\n",
       "      <td>5</td>\n",
       "      <td>2</td>\n",
       "      <td>2</td>\n",
       "      <td>2</td>\n",
       "      <td>2</td>\n",
       "      <td>3</td>\n",
       "      <td>1</td>\n",
       "      <td>0</td>\n",
       "    </tr>\n",
       "    <tr>\n",
       "      <th>4</th>\n",
       "      <td>4</td>\n",
       "      <td>119299</td>\n",
       "      <td>1</td>\n",
       "      <td>1</td>\n",
       "      <td>2</td>\n",
       "      <td>3</td>\n",
       "      <td>3</td>\n",
       "      <td>4</td>\n",
       "      <td>5</td>\n",
       "      <td>5</td>\n",
       "      <td>3</td>\n",
       "      <td>4</td>\n",
       "      <td>3</td>\n",
       "      <td>1</td>\n",
       "    </tr>\n",
       "  </tbody>\n",
       "</table>\n",
       "</div>"
      ],
      "text/plain": [
       "   Unnamed: 0      id  Customer Type  Type of Travel  Class  \\\n",
       "0           0   70172              1               0      1   \n",
       "1           1    5047              0               1      2   \n",
       "2           2  110028              1               1      2   \n",
       "3           3   24026              1               1      2   \n",
       "4           4  119299              1               1      2   \n",
       "\n",
       "   Inflight wifi service  Gate location  Food and drink  Online boarding  \\\n",
       "0                      3              1               5                3   \n",
       "1                      3              3               1                3   \n",
       "2                      2              2               5                5   \n",
       "3                      2              5               2                2   \n",
       "4                      3              3               4                5   \n",
       "\n",
       "   Seat comfort  Inflight entertainment  Baggage handling  Checkin service  \\\n",
       "0             5                       5                 4                4   \n",
       "1             1                       1                 3                1   \n",
       "2             5                       5                 4                4   \n",
       "3             2                       2                 3                1   \n",
       "4             5                       3                 4                3   \n",
       "\n",
       "   satisfaction  \n",
       "0             0  \n",
       "1             0  \n",
       "2             1  \n",
       "3             0  \n",
       "4             1  "
      ]
     },
     "execution_count": 23,
     "metadata": {},
     "output_type": "execute_result"
    }
   ],
   "source": [
    "train_APS.head()"
   ]
  },
  {
   "cell_type": "code",
   "execution_count": 24,
   "id": "97bbacc7",
   "metadata": {},
   "outputs": [],
   "source": [
    "#sns.heatmap(train_APS.corr(), cmap='YlGnBu', xticklabels=True, yticklabels=True)"
   ]
  },
  {
   "cell_type": "code",
   "execution_count": 25,
   "id": "b58a3e8c",
   "metadata": {},
   "outputs": [],
   "source": [
    "#from pandas_profiling import ProfileReport\n",
    "#report = ProfileReport(train_APS)\n",
    "#report.to_file(output_file='output.html')"
   ]
  },
  {
   "cell_type": "markdown",
   "id": "243264dd",
   "metadata": {},
   "source": [
    "We need to separate the data into the Features and Targets. The target, also known as the label, is the value we want to predict, in this case, the “satisfaction” of airline passengers, and the features are all the columns the model uses to make a prediction. We will also convert the Pandas dataframes to Numpy arrays because that is the way the algorithm works."
   ]
  },
  {
   "cell_type": "code",
   "execution_count": 26,
   "id": "d36ba3f2",
   "metadata": {},
   "outputs": [],
   "source": [
    "train_labels = np.array(train_APS['satisfaction']) #Label"
   ]
  },
  {
   "cell_type": "code",
   "execution_count": 27,
   "id": "a56e7f95",
   "metadata": {},
   "outputs": [],
   "source": [
    "train_APS = train_APS.drop('satisfaction', axis = 1) #Remove label from DF"
   ]
  },
  {
   "cell_type": "code",
   "execution_count": 28,
   "id": "1d66cabb",
   "metadata": {},
   "outputs": [],
   "source": [
    "train_APS_list = list(train_APS.columns) #To use later"
   ]
  },
  {
   "cell_type": "code",
   "execution_count": 29,
   "id": "4c9e43ef",
   "metadata": {},
   "outputs": [],
   "source": [
    "train_APS = np.array(train_APS)"
   ]
  },
  {
   "cell_type": "markdown",
   "id": "e342a266",
   "metadata": {},
   "source": [
    "Training the Model: Random Forest"
   ]
  },
  {
   "cell_type": "code",
   "execution_count": 30,
   "id": "7bd49c25",
   "metadata": {},
   "outputs": [],
   "source": [
    "from sklearn.model_selection import train_test_split\n",
    "from sklearn.ensemble import RandomForestClassifier\n",
    "from sklearn.metrics import accuracy_score, confusion_matrix, classification_report\n",
    "%matplotlib inline"
   ]
  },
  {
   "cell_type": "code",
   "execution_count": 31,
   "id": "0a1c8741",
   "metadata": {},
   "outputs": [],
   "source": [
    "rf = RandomForestClassifier()"
   ]
  },
  {
   "cell_type": "code",
   "execution_count": 32,
   "id": "5f1aa676",
   "metadata": {},
   "outputs": [
    {
     "data": {
      "text/plain": [
       "RandomForestClassifier()"
      ]
     },
     "execution_count": 32,
     "metadata": {},
     "output_type": "execute_result"
    }
   ],
   "source": [
    "rf.fit(train_APS, train_labels)"
   ]
  },
  {
   "cell_type": "code",
   "execution_count": null,
   "id": "fb0d848e",
   "metadata": {},
   "outputs": [],
   "source": []
  },
  {
   "cell_type": "markdown",
   "id": "56761904",
   "metadata": {},
   "source": [
    "Les's test our Random Forest Model"
   ]
  },
  {
   "cell_type": "code",
   "execution_count": 33,
   "id": "2dab55fa",
   "metadata": {},
   "outputs": [],
   "source": [
    "test_APS.dropna(subset = ['Arrival Delay in Minutes'], inplace=True)"
   ]
  },
  {
   "cell_type": "code",
   "execution_count": 34,
   "id": "d39004a4",
   "metadata": {},
   "outputs": [],
   "source": [
    "test_APS['satisfaction'].replace(['neutral or dissatisfied', 'satisfied'], [0, 1], inplace=True)"
   ]
  },
  {
   "cell_type": "code",
   "execution_count": 35,
   "id": "2dc4458d",
   "metadata": {},
   "outputs": [],
   "source": [
    "test_APS['Customer Type'].replace(['disloyal Customer', 'Loyal Customer'], [0, 1], inplace=True)"
   ]
  },
  {
   "cell_type": "code",
   "execution_count": 36,
   "id": "293df5c4",
   "metadata": {},
   "outputs": [],
   "source": [
    "test_APS['Type of Travel'].replace(['Personal Travel', 'Business travel'], [0, 1], inplace=True)"
   ]
  },
  {
   "cell_type": "code",
   "execution_count": 37,
   "id": "bbec5d2f",
   "metadata": {},
   "outputs": [],
   "source": [
    "test_APS['Class'].replace(['Eco', 'Eco Plus', 'Business'], [0, 1, 2], inplace=True)"
   ]
  },
  {
   "cell_type": "code",
   "execution_count": null,
   "id": "02004b1a",
   "metadata": {},
   "outputs": [],
   "source": []
  },
  {
   "cell_type": "code",
   "execution_count": 38,
   "id": "518569e9",
   "metadata": {},
   "outputs": [],
   "source": [
    "test_APS.drop(['Gender', 'Age', 'Flight Distance', 'Departure/Arrival time convenient', 'Ease of Online booking', 'On-board service', 'Leg room service', 'Inflight service', 'Cleanliness', 'Departure Delay in Minutes', 'Arrival Delay in Minutes'], axis=1, inplace=True)"
   ]
  },
  {
   "cell_type": "code",
   "execution_count": 39,
   "id": "92ae033e",
   "metadata": {},
   "outputs": [],
   "source": [
    "test_labels = np.array(test_APS['satisfaction']) # Test Label"
   ]
  },
  {
   "cell_type": "code",
   "execution_count": 40,
   "id": "6ba51eb6",
   "metadata": {},
   "outputs": [],
   "source": [
    "test_APS = test_APS.drop('satisfaction', axis = 1) #Remove label from DF"
   ]
  },
  {
   "cell_type": "code",
   "execution_count": 41,
   "id": "0d373410",
   "metadata": {},
   "outputs": [],
   "source": [
    "test_APS_list = list(test_APS.columns) #To use later"
   ]
  },
  {
   "cell_type": "code",
   "execution_count": 42,
   "id": "8af3f14b",
   "metadata": {},
   "outputs": [],
   "source": [
    "test_APS = np.array(test_APS)"
   ]
  },
  {
   "cell_type": "code",
   "execution_count": 43,
   "id": "d7b10542",
   "metadata": {},
   "outputs": [],
   "source": [
    "predictions = rf.predict(test_APS) #Use RF predict on test data"
   ]
  },
  {
   "cell_type": "code",
   "execution_count": 44,
   "id": "8de4ef8c",
   "metadata": {},
   "outputs": [
    {
     "data": {
      "text/plain": [
       "0.9574016143359209"
      ]
     },
     "execution_count": 44,
     "metadata": {},
     "output_type": "execute_result"
    }
   ],
   "source": [
    "accuracy_score(test_labels, predictions)"
   ]
  },
  {
   "cell_type": "code",
   "execution_count": null,
   "id": "5abc4897",
   "metadata": {},
   "outputs": [],
   "source": []
  },
  {
   "cell_type": "code",
   "execution_count": 45,
   "id": "16c8b042",
   "metadata": {},
   "outputs": [
    {
     "data": {
      "text/plain": [
       "array([[14166,   362],\n",
       "       [  741, 10624]])"
      ]
     },
     "execution_count": 45,
     "metadata": {},
     "output_type": "execute_result"
    }
   ],
   "source": [
    "confusion_matrix(test_labels, predictions)"
   ]
  },
  {
   "cell_type": "code",
   "execution_count": 46,
   "id": "06937fa9",
   "metadata": {},
   "outputs": [
    {
     "data": {
      "image/png": "[encoded data removed]",
      "text/plain": [
       "<Figure size 1152x504 with 2 Axes>"
      ]
     },
     "metadata": {
      "needs_background": "light"
     },
     "output_type": "display_data"
    }
   ],
   "source": [
    "matrix = confusion_matrix(test_labels, predictions)\n",
    "matrix = matrix.astype('float') / matrix.sum(axis=1)[:, np.newaxis]\n",
    "plt.figure(figsize=(16,7))\n",
    "sns.set(font_scale=1.4)\n",
    "sns.heatmap(matrix, annot=True, annot_kws={'size':10},\n",
    "            cmap=plt.cm.Greens, linewidths=0.2)\n",
    "\n",
    "plt.xlabel('Predicted label')\n",
    "plt.ylabel('True label')\n",
    "plt.title('Confusion Matrix for Random Forest Model')\n",
    "plt.show()"
   ]
  },
  {
   "cell_type": "code",
   "execution_count": null,
   "id": "83c6b0c4",
   "metadata": {},
   "outputs": [],
   "source": []
  },
  {
   "cell_type": "code",
   "execution_count": null,
   "id": "c6069182",
   "metadata": {},
   "outputs": [],
   "source": []
  },
  {
   "cell_type": "code",
   "execution_count": null,
   "id": "53be2c3e",
   "metadata": {},
   "outputs": [],
   "source": []
  }
 ],
 "metadata": {
  "kernelspec": {
   "display_name": "Python 3 (ipykernel)",
   "language": "python",
   "name": "python3"
  },
  "language_info": {
   "codemirror_mode": {
    "name": "ipython",
    "version": 3
   },
   "file_extension": ".py",
   "mimetype": "text/x-python",
   "name": "python",
   "nbconvert_exporter": "python",
   "pygments_lexer": "ipython3",
   "version": "3.9.7"
  }
 },
 "nbformat": 4,
 "nbformat_minor": 5
}
